{
 "cells": [
  {
   "cell_type": "markdown",
   "metadata": {
    "slideshow": {
     "slide_type": "slide"
    }
   },
   "source": [
    "# リョウコと実装！シュレディンガーの猫\n",
    "\n",
    "みなさん、「リョウコと実装！シュレディンガーの猫」へようこそ。本ハンズオンは量子コンピューター初心者向けです。量子コンピューターと量子コンピューティングについて簡単に説明した後、シュレディンガーの猫の実装に挑戦していただきます。\n",
    "\n",
    "**前提知識**：Python\n",
    "\n",
    "**事前準備**：[IBM Quantum](https://quantum-computing.ibm.com/)へのサインアップ"
   ]
  },
  {
   "cell_type": "markdown",
   "metadata": {
    "slideshow": {
     "slide_type": "slide"
    }
   },
   "source": [
    "### 目次\n",
    "1. [量子コンピューター](#quantum_computer)\n",
    "1. [量子コンピューティング](#quantum_computing) \n",
    "1. [ハンズオン準備](#prep)\n",
    "1. [量子回路を作成する](#circuit)\n",
    "1. [量子ゲートを作用させる](#gate)\n",
    "1. [シミュレーターで実行する](#simulator)\n",
    "1. [実機で実行する](#real_machine)\n",
    "1. [演習！](#exercise)\n",
    "1. [まとめ](#summary)"
   ]
  },
  {
   "cell_type": "markdown",
   "metadata": {
    "slideshow": {
     "slide_type": "slide"
    }
   },
   "source": [
    "## 1. 量子コンピューター <a id='quantum_computer'></a>\n"
   ]
  },
  {
   "cell_type": "markdown",
   "metadata": {},
   "source": [
    "### 1.1 量子って何？\n",
    "Q. 物質の最小構成単位は何でしょうか？\n",
    "\n",
    "例えば、鉄の塊をどんどん細かく切ったとき、最後に見えるモノはなんでしょう？"
   ]
  },
  {
   "cell_type": "markdown",
   "metadata": {
    "slideshow": {
     "slide_type": "slide"
    }
   },
   "source": [
    "![物質の最小構成単位](Material.png)\n",
    "\n",
    "|　　　| 鉄 | 原子 | 原子核 | 陽子 | クォーク |\n",
    "| --- | ---: | ---: | ---: | ---: | ---: |\n",
    "| 大きさ | $$ \\sim10^{-1}m $$ | $$ \\sim10^{-9}m $$ | $$ \\sim10^{-14}m $$ | $$ \\sim10^{-15}m $$ | $$ \\sim10^{-18}m $$ |\n",
    "\n",
    "一般的に原子より小さいものを**量子**と呼びます。"
   ]
  },
  {
   "cell_type": "markdown",
   "metadata": {
    "slideshow": {
     "slide_type": "slide"
    }
   },
   "source": [
    "### 1.2 量子の不思議なふるまい\n",
    "\n",
    "Q. 光は波でしょうか、粒子でしょうか？"
   ]
  },
  {
   "cell_type": "markdown",
   "metadata": {
    "slideshow": {
     "slide_type": "slide"
    }
   },
   "source": [
    "#### ヤングの実験\n",
    "\n",
    "![ヤングの実験](Wave.png)\n",
    "\n",
    "光が**波**であれば説明できる！ by ヤング"
   ]
  },
  {
   "cell_type": "markdown",
   "metadata": {
    "slideshow": {
     "slide_type": "slide"
    }
   },
   "source": [
    "#### 光電効果\n",
    "![光電効果](Photoelectric.png)\n",
    "光が**粒子**ならば説明できる！ by アインシュタイン"
   ]
  },
  {
   "cell_type": "markdown",
   "metadata": {
    "slideshow": {
     "slide_type": "slide"
    }
   },
   "source": [
    "# 光(量子)は粒子でもあり波でもある！\n",
    "\n",
    "量子の世界は、私たちの世界と全く異なり、直感的に理解できません\n",
    "\n",
    "もしも量子力学を理解できたと思ったならば...それは量子力学を理解できていない証拠だ by [ファインマン](https://en.wikipedia.org/wiki/Richard_Feynman)"
   ]
  },
  {
   "cell_type": "markdown",
   "metadata": {
    "slideshow": {
     "slide_type": "slide"
    }
   },
   "source": [
    "### 1.3. 量子コンピューター\n",
    "量子の不思議な振る舞いを利用して計算するコンピューター\n",
    "- 重ね合わせ\n",
    "- 干渉\n",
    "- 量子もつれ (エンタングルメント)\n",
    "\n",
    "![⽇本IBM新川崎事業所に設置された量⼦コンピューター「Kawasaki」](https://1.cms.s81c.com/sites/default/files/2021-12-23/ibm_quantum_kawasaki_608x446.jpg)"
   ]
  },
  {
   "cell_type": "markdown",
   "metadata": {
    "slideshow": {
     "slide_type": "slide"
    }
   },
   "source": [
    "![BitAndQubit6](BitQubit.png)"
   ]
  },
  {
   "cell_type": "markdown",
   "metadata": {},
   "source": [
    "| ビット数 | 表現できる数 |\n",
    "| --- | --- | \n",
    "| 1ビット| 2通り |\n",
    "| 2ビット| 4通り |\n",
    "| 8ビット| 256通り |\n",
    "| 16ビット| 65536通り |\n",
    "| 32ビット| 約43億通り |\n",
    "| 64ビット| 約1.8×1019通り |\n"
   ]
  },
  {
   "cell_type": "markdown",
   "metadata": {
    "slideshow": {
     "slide_type": "slide"
    }
   },
   "source": [
    "## 2. 量子コンピューティング <a id='quantum_computing'></a>\n",
    "### 2.1 量子コンピューティングの流れ\n",
    "\n",
    "1. **量子ビットの初期化**：大体の量子コンピューターにおいて、量子ビットは$ |0\\rangle $に初期化されます。\n",
    "1. **量子ビットの操作**：量子ビットの操作は`量子ゲート`と呼ばれるもので実施します。量子ゲートによる操作で、量子ビットの状態は重ね合わせ状態となり、結果は確率的なものとなります。\n",
    "1. **量子ビットの測定**：`測定ゲート`を用いて量子ビットを測定し、結果を古典ビットに格納します。結果は確率的なもののため、1回の測定で答えを得られることはありません。通常複数回、回路を実行し測定することを繰り返します。\n"
   ]
  },
  {
   "cell_type": "markdown",
   "metadata": {
    "slideshow": {
     "slide_type": "slide"
    }
   },
   "source": [
    "### 2.2 量子回路の可視化\n",
    "\n",
    "![量子回路](Circuit.png)\n",
    "\n"
   ]
  },
  {
   "cell_type": "markdown",
   "metadata": {
    "slideshow": {
     "slide_type": "slide"
    }
   },
   "source": [
    "### 2.3 Qiskit\n",
    "[Qiskit](https://qiskit.org/)は量子コンピューティングのためのオープンソースのフレームワークです。回路やパルス、アルゴリズムといった様々なレベルのライブラリが揃っています。Qiskitを使えば、量子回路を簡単に作成し、シミュレーターや実際の量子コンピュータで実行することができます。\n",
    "\n",
    "Qiskitは自分のコンピューターに[インストール](https://qiskit.org/documentation/install.html)することもできますが、本日はIBM Quantum上で実行していきます。"
   ]
  },
  {
   "cell_type": "markdown",
   "metadata": {
    "slideshow": {
     "slide_type": "slide"
    }
   },
   "source": [
    "## 3. ハンズオンの準備 <a id='prep'></a>\n",
    "ハンズオンを実行する環境を準備しましょう。\n",
    "\n",
    "1. Jupyter notebookのダウンロード <br/>\n",
    "  ハンズオンで使用するJupyter notebookファイルを[こちら](https://github.com/purepureclub/RyokoFundamental/archive/refs/heads/main.zip)からダウンロードします\n",
    "  \n",
    "2. ダウンロードしたzipファイルを解凍します\n",
    "\n",
    "3. [IBM Quantum](https://quantum-computing.ibm.com/)へのログイン <br/>\n",
    "\n",
    "4. Jupyter notebookのアップロード <br/>\n",
    "ステップ2で解凍したファイルをIBM Quantumにアップロードします\n",
    "\n",
    "  4-1. [Dashbord](https://quantum-computing.ibm.com/)上の[Launch Lab](https://quantum-computing.ibm.com/lab)ボタンをクリックします\n",
    "  \n",
    "  4-2. [Upload file]ボタン(上矢印)を押して、ステップ2で解凍したファイルをアップロードします\n",
    "\n",
    "5. アップロードしたファイル「handson.ipynb」を開いてください\n"
   ]
  },
  {
   "cell_type": "markdown",
   "metadata": {
    "slideshow": {
     "slide_type": "slide"
    }
   },
   "source": [
    "## 4. 量子回路を作成する <a id='circuit'></a>\n",
    "では、量子回路を作成してみましょう。Qiskitで量子回路を表現するのは、`QuantumCircuit`クラスです。コンストラクタの種類はいくつかあります。最もポピュラーなのは、量子ビット数と古典ビット数を指定する方法です。作成した回路は、`draw`メソッドを使って簡単に描画することができます。\n",
    "\n",
    "下のセルに書かれたコードを実行しましょう。セルをクリックして「shift」+「enter」を押してください。これは、Jupyter notebookのコードセルを実行する最も一般的な方法です。 "
   ]
  },
  {
   "cell_type": "code",
   "execution_count": null,
   "metadata": {
    "slideshow": {
     "slide_type": "slide"
    }
   },
   "outputs": [],
   "source": [
    "from qiskit import QuantumCircuit\n",
    "# 1量子ビット、1古典ビットの回路を作成する\n",
    "qc = QuantumCircuit(1, 1)\n",
    "# 回路を描画する\n",
    "qc.draw()"
   ]
  },
  {
   "cell_type": "markdown",
   "metadata": {
    "slideshow": {
     "slide_type": "slide"
    }
   },
   "source": [
    "## 5. 量子ゲートを作用させる<a id='gate'></a>\n",
    "量子ゲートは、量子回路の量子ビットに作用します。どの量子ビットに作用させるか、引数で指定します。"
   ]
  },
  {
   "cell_type": "markdown",
   "metadata": {
    "slideshow": {
     "slide_type": "slide"
    }
   },
   "source": [
    "### 1量子ビットに作用するゲート\n",
    "`Xゲート`は、$ |0\\rangle $ を $ |1\\rangle $ に、$ |1\\rangle $ を $ |0\\rangle $に反転させるゲートです。\n",
    "\n",
    "`Hゲート`は、重ね合わせを作成するゲートです。$ |0\\rangle $に作用させると 、50%の確率で$ |0\\rangle $を、50%の確率で$ |1\\rangle $ を観測する状態を作成します。"
   ]
  },
  {
   "cell_type": "code",
   "execution_count": null,
   "metadata": {
    "slideshow": {
     "slide_type": "-"
    }
   },
   "outputs": [],
   "source": [
    "from qiskit import QuantumCircuit\n",
    "\n",
    "# 1量子ビット、1古典ビットの回路を作成する\n",
    "qc = QuantumCircuit(1, 1)\n",
    "\n",
    "# 第0量子ビットにXゲートを作用させる\n",
    "qc.x(0)\n",
    "# 第0量子ビットにHゲートを作用させる\n",
    "qc.h(0)\n",
    "\n",
    "# 回路を描画する\n",
    "qc.draw()"
   ]
  },
  {
   "cell_type": "markdown",
   "metadata": {
    "slideshow": {
     "slide_type": "slide"
    }
   },
   "source": [
    "### 2量子ビットに作用するゲート\n",
    "今回は使用しませんが、2量子ビットに作用するゲートもあります。\n",
    "\n",
    "`CXゲート` (Controlled Xゲート、CNOTゲート) は、制御ビットが1の時、ターゲット・ビットを反転させるゲートです。"
   ]
  },
  {
   "cell_type": "code",
   "execution_count": null,
   "metadata": {
    "slideshow": {
     "slide_type": "-"
    }
   },
   "outputs": [],
   "source": [
    "from qiskit import QuantumRegister, QuantumCircuit\n",
    "\n",
    "# 2量子ビット、2古典ビットの回路を作成する\n",
    "qc = QuantumCircuit(2, 2)\n",
    "\n",
    "# 第0量子ビットを制御ビット、第1量子ビットをターゲットビットとして、CXゲートを作用させる\n",
    "qc.cx(0, 1)\n",
    "\n",
    "# 回路を描画する\n",
    "qc.draw()"
   ]
  },
  {
   "cell_type": "markdown",
   "metadata": {
    "slideshow": {
     "slide_type": "slide"
    }
   },
   "source": [
    "### 測定ゲート\n",
    "量子ビットの状態を測定するには、`measure`メソッドを使用します。以下は1量子ビットの量子回路をつくり、第0量子ビットにXゲートを作用させて、測定する量子回路です。"
   ]
  },
  {
   "cell_type": "code",
   "execution_count": null,
   "metadata": {
    "slideshow": {
     "slide_type": "slide"
    }
   },
   "outputs": [],
   "source": [
    "from qiskit import QuantumCircuit\n",
    "\n",
    "# 1量子ビット、1古典ビットの回路を作成する\n",
    "qc_example = QuantumCircuit(1, 1)\n",
    "\n",
    "# 第0量子ビットにHゲートを作用させる\n",
    "qc_example.x(0)\n",
    "# 第0量子ビットを測定し、第0古典ビットに格納する\n",
    "qc_example.measure(0, 0)\n",
    "\n",
    "#回路を描画する\n",
    "qc_example.draw()"
   ]
  },
  {
   "cell_type": "markdown",
   "metadata": {
    "slideshow": {
     "slide_type": "slide"
    }
   },
   "source": [
    "## 6. シミュレーターで実行する <a id='simulator'></a>\n",
    "回路を作成したら、まずシミュレーターで実行し、期待される動作になっているか確認しましょう。Qiskitは複数のシミュレーターを提供していますが、本ハンズオンでは、QasmSimulatorを使用します。QasmSimulatorは量子回路の理想的な実行を複数回行い、個々の観測結果またはカウント数を返すものです。先ほど作成した回路をQasmSimulatorシミュレーターで実行してみましょう。"
   ]
  },
  {
   "cell_type": "code",
   "execution_count": null,
   "metadata": {
    "slideshow": {
     "slide_type": "slide"
    }
   },
   "outputs": [],
   "source": [
    "from qiskit import transpile\n",
    "from qiskit.providers.aer import QasmSimulator\n",
    "from qiskit.visualization import plot_histogram\n",
    "\n",
    "# AerのQasmSimulatorを取得します\n",
    "backend = QasmSimulator()\n",
    "# 回路をトランスパイルします\n",
    "compiled_circuit = transpile(qc_example, backend)\n",
    "# トランスパイルされた量子回路、実行回数を指定して、実行します\n",
    "job = backend.run(compiled_circuit, shots=1024)\n",
    "# jobから結果を取得します。\n",
    "result = job.result()\n",
    "# 実行結果としてカウント数を取得します\n",
    "counts  = result.get_counts(qc_example)\n",
    "# 結果を描画します\n",
    "plot_histogram(counts)"
   ]
  },
  {
   "cell_type": "markdown",
   "metadata": {
    "slideshow": {
     "slide_type": "slide"
    }
   },
   "source": [
    "個々の実行結果を得たい場合は、memoryパラメーターをTrueにします。"
   ]
  },
  {
   "cell_type": "code",
   "execution_count": null,
   "metadata": {
    "slideshow": {
     "slide_type": "-"
    }
   },
   "outputs": [],
   "source": [
    "# 量子回路、バックエンド、実行回数を指定して、実行し、結果のオブジェクトを取得します\n",
    "result = backend.run(compiled_circuit, shots=16, memory=True).result()\n",
    "\n",
    "# 実行結果として個々の測定結果を取得します\n",
    "memory = result.get_memory(qc_example)\n",
    "print(memory)"
   ]
  },
  {
   "cell_type": "markdown",
   "metadata": {
    "slideshow": {
     "slide_type": "slide"
    }
   },
   "source": [
    "## 7. 実機で実行する <a id='real_machine'></a>\n",
    "では、実機で実行してみましょう。ご自身のアカウントにより、利用できるバックエンドが異なりますので、まずどのようなマシンが使えるか確認します。"
   ]
  },
  {
   "cell_type": "code",
   "execution_count": null,
   "metadata": {
    "slideshow": {
     "slide_type": "-"
    }
   },
   "outputs": [],
   "source": [
    "from qiskit.providers.ibmq import *\n",
    "import qiskit.tools.jupyter\n",
    "# IBM Q アカウントをロードします\n",
    "provider = IBMQ.load_account()\n",
    "# 使用できるバックエンドを表示します\n",
    "%qiskit_backend_overview"
   ]
  },
  {
   "cell_type": "markdown",
   "metadata": {
    "slideshow": {
     "slide_type": "slide"
    }
   },
   "source": [
    "たくさんあって選べませんね。`backends`メソッドは、フィルターを引数にとることができます。また、最も待ち行列が少ないバックエンドを取得する`least_busy`メソッドも便利です。"
   ]
  },
  {
   "cell_type": "code",
   "execution_count": null,
   "metadata": {
    "slideshow": {
     "slide_type": "-"
    }
   },
   "outputs": [],
   "source": [
    "# 1量子ビット以上で最も待ち行列が少ない実機を取得する\n",
    "least_busy(provider.backends(filters=lambda x: x.configuration().n_qubits >= 1 \n",
    "                             and not x.configuration().simulator))"
   ]
  },
  {
   "cell_type": "markdown",
   "metadata": {
    "slideshow": {
     "slide_type": "slide"
    }
   },
   "source": [
    "実機のバックエンドを使用して量子回路を実行する手順は、シミュレーターの時と一緒です。バックエンドを取得したら、トランスパイルします。実機で実行する場合は、待ち行列に入ったり実行に時間がかかったりして、いつ終わるかわからないので、`job_monitor`メソッドを使用して、状況をモニターするのがお勧めです。\n",
    "\n",
    "実機を使うのは、演習のときのお楽しみとして、今回は実機をシミュレーションするバックエンドで実行します。"
   ]
  },
  {
   "cell_type": "code",
   "execution_count": null,
   "metadata": {
    "slideshow": {
     "slide_type": "-"
    }
   },
   "outputs": [],
   "source": [
    "from qiskit.tools.monitor import job_monitor \n",
    "from qiskit.providers.aer import AerSimulator\n",
    "\n",
    "# 直前のセルで取得した実機の名前を指定して、実行バックエンドを取得します\n",
    "backend = provider.get_backend('ibmq_armonk')\n",
    "# 実機をシミュレーションする実行バックエンドを取得します (演習時は不要)\n",
    "backend = AerSimulator.from_backend(backend)\n",
    "# トランスパイルします\n",
    "compiled_circuit = transpile(qc_example, backend)\n",
    "# 量子回路、バックエンド、実行回数を指定して、実行し、結果のオブジェクトを取得します\n",
    "job = backend.run(compiled_circuit, shots=1024)\n",
    "# 実行状況をモニターします\n",
    "job_monitor(job)"
   ]
  },
  {
   "cell_type": "markdown",
   "metadata": {
    "slideshow": {
     "slide_type": "slide"
    }
   },
   "source": [
    "`Job Status: job has successfully run` と表示されたら、実行完了です。結果を取得して、表示してみましょう。"
   ]
  },
  {
   "cell_type": "code",
   "execution_count": null,
   "metadata": {
    "slideshow": {
     "slide_type": "-"
    }
   },
   "outputs": [],
   "source": [
    "result = job.result()\n",
    "# 実行結果としてカウント数を取得します\n",
    "counts  = result.get_counts(qc_example)\n",
    "plot_histogram(counts)"
   ]
  },
  {
   "cell_type": "markdown",
   "metadata": {
    "slideshow": {
     "slide_type": "slide"
    }
   },
   "source": [
    "## 8. 演習：シュレディンガーの猫を実装する <a id='exercise'></a>\n",
    "\n",
    "Q. シュレディンガーの猫をご存じですか？"
   ]
  },
  {
   "cell_type": "markdown",
   "metadata": {
    "slideshow": {
     "slide_type": "slide"
    }
   },
   "source": [
    "シュレディンガーの猫とは、理論物理学者Erwin Schrödingerによる思考実験です。不透明な箱に、1分間に50%の確率で毒ガスを発生させる装置と猫を入れたとき、1分後の猫の生死がどうなっているかを論じるものです。\n",
    "![シュレディンガーの猫](Cat.png)\n",
    "\n",
    "ところで、$ |0\\rangle $に`Hゲート`を作用させると 、50%の確率で$ |0\\rangle $を、50%の確率で$ |1\\rangle $を観測することができます。\n",
    "\n",
    "これを利用し、量子ビットを使ってシュレディンガーの猫を実装してみましょう。"
   ]
  },
  {
   "cell_type": "markdown",
   "metadata": {
    "slideshow": {
     "slide_type": "slide"
    }
   },
   "source": [
    "### 準備1：必要なライブラリをインポートします"
   ]
  },
  {
   "cell_type": "code",
   "execution_count": null,
   "metadata": {},
   "outputs": [],
   "source": [
    "#必要なライブラリのインポート\n",
    "%matplotlib inline\n",
    "from qiskit import QuantumCircuit, transpile, IBMQ\n",
    "from qiskit.providers.aer import QasmSimulator\n",
    "from qiskit.tools.monitor import job_monitor \n",
    "from qiskit.providers.ibmq import least_busy\n",
    "from qiskit.visualization import plot_histogram\n",
    "import numpy as np\n",
    "import matplotlib.pyplot as plt"
   ]
  },
  {
   "cell_type": "markdown",
   "metadata": {
    "slideshow": {
     "slide_type": "slide"
    }
   },
   "source": [
    "### 準備2：生きた猫と死んだ猫を表示する関数を実装します"
   ]
  },
  {
   "cell_type": "code",
   "execution_count": null,
   "metadata": {},
   "outputs": [],
   "source": [
    "#猫画像の初期化\n",
    "live_cat = np.array(\n",
    "    [[0,0,0,0,0,0,0,0,0,0,0,0,0,0,0,0,0,0,0,0],\n",
    "    [0,1,1,1,1,1,1,1,1,1,1,1,1,1,1,1,1,1,1,0],\n",
    "    [0,1,1,1,1,1,1,1,0,1,1,1,1,0,1,1,1,1,1,0],\n",
    "    [0,1,1,1,1,1,1,0,0,1,1,1,0,0,1,1,1,1,1,0],\n",
    "    [0,1,1,1,1,1,0,0,0,1,1,0,0,0,1,1,1,1,1,0],\n",
    "    [0,1,1,1,1,1,0,0,0,0,0,0,0,0,1,1,1,1,1,0],\n",
    "    [0,1,1,1,1,0,0,1,0,0,1,0,0,0,1,1,1,1,1,0],\n",
    "    [0,1,1,1,1,0,0,1,0,0,1,0,0,0,1,1,1,1,1,0],\n",
    "    [0,1,1,1,1,0,0,0,0,0,0,0,0,0,1,1,1,1,1,0],\n",
    "    [0,1,1,1,1,1,0,0,0,0,0,0,0,1,1,1,1,1,1,0],\n",
    "    [0,1,1,1,1,1,1,0,0,0,0,0,1,1,1,0,0,1,1,0],\n",
    "    [0,1,1,1,1,1,1,1,1,0,0,1,1,1,0,1,1,0,1,0],\n",
    "    [0,1,1,1,1,1,1,1,1,0,0,0,1,1,0,1,1,1,1,0],\n",
    "    [0,1,1,1,1,1,1,1,1,0,0,0,0,1,1,0,1,1,1,0],\n",
    "    [0,1,1,1,1,1,1,1,1,0,0,0,0,0,1,1,0,1,1,0],\n",
    "    [0,1,1,1,1,1,1,1,0,0,0,0,0,0,1,1,0,1,1,0],\n",
    "    [0,1,1,1,1,1,1,1,0,0,0,0,0,0,0,1,0,1,1,0],\n",
    "    [0,1,1,1,1,1,1,1,0,0,0,0,0,0,0,0,1,1,1,0],\n",
    "    [0,1,1,1,1,1,1,1,0,0,0,0,0,0,0,1,1,1,1,0],\n",
    "    [0,0,0,0,0,0,0,0,0,0,0,0,0,0,0,0,0,0,0,0]])\n",
    "dead_cat = np.array(\n",
    "    [[0,0,0,0,0,0,0,0,0,0,0,0,0,0,0,0,0,0,0,0],\n",
    "    [0,1,1,1,1,1,1,1,1,1,1,1,1,1,1,1,1,1,1,0],\n",
    "    [0,1,1,1,1,1,1,1,1,1,1,1,1,1,1,1,1,1,1,0],\n",
    "    [0,1,1,1,1,1,1,1,1,1,1,1,1,1,1,1,1,1,1,0],\n",
    "    [0,1,1,1,1,1,1,1,1,1,1,1,1,1,1,1,1,1,1,0],\n",
    "    [0,1,1,1,1,1,1,1,1,1,1,1,1,1,1,1,1,1,1,0],\n",
    "    [0,1,1,1,1,1,1,1,1,1,1,1,1,1,1,1,1,1,1,0],\n",
    "    [0,1,1,1,1,1,1,1,1,1,1,1,1,1,1,1,1,1,1,0],\n",
    "    [0,1,1,1,1,1,1,1,1,1,1,1,1,1,1,1,1,1,1,0],\n",
    "    [0,1,1,1,1,1,1,1,1,1,1,1,1,1,1,1,1,1,1,0],\n",
    "    [0,1,1,1,1,1,1,1,1,1,1,1,1,1,1,1,1,1,1,0],\n",
    "    [0,1,1,1,1,1,1,1,1,1,1,1,1,1,1,1,1,1,1,0],\n",
    "    [0,1,1,1,1,0,1,1,1,0,1,1,1,1,1,1,1,1,1,0],     \n",
    "    [0,1,1,1,0,0,1,1,0,0,1,1,1,0,0,0,0,0,1,0],     \n",
    "    [0,1,1,0,0,0,1,0,0,0,1,1,0,0,0,0,0,0,0,0],     \n",
    "    [0,1,1,0,0,0,0,0,0,0,1,0,0,0,0,0,0,0,0,0],     \n",
    "    [0,1,0,0,0,0,0,0,0,0,0,0,0,0,0,0,0,0,0,0],     \n",
    "    [0,1,0,0,0,0,0,0,0,0,0,0,0,0,0,0,0,0,0,0],     \n",
    "    [0,1,0,0,0,0,0,0,0,0,0,0,0,0,0,0,0,0,0,0],     \n",
    "    [0,0,0,0,0,0,0,0,0,0,0,0,0,0,0,0,0,0,0,0]])\n",
    "\n",
    "#入力が1の場合は生きている猫、\n",
    "#それ以外は死んでいる猫が表示される関数\n",
    "def show_cat(memory):\n",
    "    if memory[0] == '1':\n",
    "        image = live_cat\n",
    "    else:\n",
    "        image = dead_cat\n",
    "        \n",
    "    fig, ax = plt.subplots()\n",
    "    ax.imshow(image, cmap=plt.cm.gray)\n",
    "    ax.axis(\"off\")\n",
    "    plt.show()"
   ]
  },
  {
   "cell_type": "markdown",
   "metadata": {
    "slideshow": {
     "slide_type": "slide"
    }
   },
   "source": [
    "関数が正しく動作するか確かめます。"
   ]
  },
  {
   "cell_type": "code",
   "execution_count": null,
   "metadata": {},
   "outputs": [],
   "source": [
    "# 生きた猫\n",
    "show_cat(['1'])\n",
    "\n",
    "# 死んだ猫\n",
    "show_cat(['0'])"
   ]
  },
  {
   "cell_type": "markdown",
   "metadata": {
    "slideshow": {
     "slide_type": "slide"
    }
   },
   "source": [
    "### 演習1：50%の確率で|0⟩を、50%の確率で|1⟩を測定する量子回路を作成します\n",
    "\n",
    "1量子ビット、1古典ビットを持つ量子回路を作成、第0量子ビットに`Hゲート`を作用させて、観測します。"
   ]
  },
  {
   "cell_type": "code",
   "execution_count": null,
   "metadata": {},
   "outputs": [],
   "source": [
    "#1量子ビット、1古典ビットの量子回路の作成\n",
    "circuit = \n",
    "\n",
    "# 第0量子ビットにHゲートを作用させる\n",
    "\n",
    "# 量子回路を測定する\n",
    "\n",
    "# 量子回路を描画する\n",
    "circuit.draw()"
   ]
  },
  {
   "cell_type": "markdown",
   "metadata": {},
   "source": [
    "### 演習 2: 作成した量子回路が正しく動作するか確認します\n",
    "QasmSimulatorを用いて確かめてみましょう。50%の確率で$|0\\rangle$が、50%の確率で$|1\\rangle$が観測されることを確認します。"
   ]
  },
  {
   "cell_type": "code",
   "execution_count": null,
   "metadata": {},
   "outputs": [],
   "source": [
    "# QasmSimulatorを取得します\n",
    "backend = \n",
    "# 回路をトランスパイルします\n",
    "compiled_circuit = \n",
    "# 回路を10000回シミュレーターで実行します\n",
    "job = \n",
    "# jobから結果を取得します。\n",
    "result = \n",
    "# 実行結果をカウント数として取得します\n",
    "counts = \n",
    "# 結果を描画します\n",
    "plot_histogram(counts)"
   ]
  },
  {
   "cell_type": "markdown",
   "metadata": {},
   "source": [
    "### 演習 3: シミュレーターを使って実行する\n",
    "シミュレーターの実行結果を用いて、猫の状態を決定しましょう。何度か実行して、生きている猫と死んでいる猫が表示されることを確認してください。"
   ]
  },
  {
   "cell_type": "code",
   "execution_count": null,
   "metadata": {},
   "outputs": [],
   "source": [
    "# 作成した回路を1回実行して、結果を取得します。memoryパラメーターをTrueに設定して下さい。\n",
    "result = \n",
    "# 実行結果を個々の測定結果として取得します\n",
    "memory = \n",
    "\n",
    "# 結果を描画します\n",
    "print(memory)\n",
    "show_cat(memory)"
   ]
  },
  {
   "cell_type": "markdown",
   "metadata": {},
   "source": [
    "### 演習 4: 実機を使って実行する\n",
    "シミュレーターで動きを確認できたので、実機で動かしてみましょう。まず、回路を実行する実機を探します。"
   ]
  },
  {
   "cell_type": "code",
   "execution_count": null,
   "metadata": {},
   "outputs": [],
   "source": [
    "# IBM Qアカウントをロードします\n",
    "provider = \n",
    "# 最も待ち行列が少ない実機を探します\n"
   ]
  },
  {
   "cell_type": "markdown",
   "metadata": {},
   "source": [
    "見つけた実機で量子回路を実行します。実行状況をモニターしてください。"
   ]
  },
  {
   "cell_type": "code",
   "execution_count": null,
   "metadata": {},
   "outputs": [],
   "source": [
    "# 直前のセルで取得した実機の名前を指定して、実行バックエンドを取得します\n",
    "backend = \n",
    "# 回路をトランスパイルします\n",
    "compiled_circuit = \n",
    "# 回路を1回実行して、結果を取得します。memoryパラメーターをTrueに設定して下さい。\n",
    "job = \n",
    "# 実行状況をモニターします\n"
   ]
  },
  {
   "cell_type": "markdown",
   "metadata": {},
   "source": [
    "`Job Status: job has successfully run` と表示されたら、結果を取得し、猫の状態を決定しましょう。"
   ]
  },
  {
   "cell_type": "code",
   "execution_count": null,
   "metadata": {},
   "outputs": [],
   "source": [
    "# 実行結果の取得\n",
    "result = \n",
    "# 実行結果を個々の観測結果として取得\n",
    "memory = \n",
    "\n",
    "# 結果を描画します\n",
    "print(memory)\n",
    "show_cat(memory)"
   ]
  },
  {
   "cell_type": "markdown",
   "metadata": {},
   "source": [
    "以上で、量子ビットを使用したシュレディンガーの猫を実装の演習は終わりです。"
   ]
  },
  {
   "cell_type": "markdown",
   "metadata": {
    "slideshow": {
     "slide_type": "slide"
    }
   },
   "source": [
    "## 9. まとめ <a id='summary'></a>\n",
    "いかがでしたか？本日はQiskitを用いて以下を行いました：\n",
    "- 量子回路を作成する\n",
    "- シミュレーターと実機で量子回路を実行する\n",
    "- シュレディンガーの猫を実装する\n",
    "\n",
    "Qiskitをもっと知りたい方には、Qiskit Documentationの[Tutorial](https://qiskit.org/documentation/tutorials.html)を、量子コンピューターについてもっと勉強したい方には、[Qiskit Textbook](https://qiskit.org/textbook/preface.html)をお勧めします。TutorialはIBM Quantumの[Quantum Lab](https://quantum-computing.ibm.com/lab)からも参照＆実行できるので便利です。\n",
    "\n",
    "Q. このハンズオンで、あなたの量子コンピューターの知識は増えましたか？\n",
    "\n",
    "<div style=\"text-align: right;\">\n",
    "(了)\n",
    "</div>"
   ]
  },
  {
   "cell_type": "code",
   "execution_count": null,
   "metadata": {
    "slideshow": {
     "slide_type": "skip"
    }
   },
   "outputs": [],
   "source": []
  }
 ],
 "metadata": {
  "celltoolbar": "Slideshow",
  "kernelspec": {
   "display_name": "Python 3 (ipykernel)",
   "language": "python",
   "name": "python3"
  },
  "language_info": {
   "codemirror_mode": {
    "name": "ipython",
    "version": 3
   },
   "file_extension": ".py",
   "mimetype": "text/x-python",
   "name": "python",
   "nbconvert_exporter": "python",
   "pygments_lexer": "ipython3",
   "version": "3.9.12"
  }
 },
 "nbformat": 4,
 "nbformat_minor": 4
}
