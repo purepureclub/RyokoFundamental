{
 "cells": [
  {
   "cell_type": "markdown",
   "metadata": {
    "slideshow": {
     "slide_type": "slide"
    }
   },
   "source": [
    "# リョウコと実装！シュレディンガーの猫\n",
    "\n",
    "みなさん、「リョウコと実装！シュレディンガーの猫」へようこそ。本ガイドは量子コンピューター初心者向けのプログラミングガイドです。量子コンピューターと量子コンピューティングについて簡単に説明した後、シュレディンガーの猫の実装に挑戦していただきます。\n",
    "\n",
    "**前提知識**：Python\n",
    "\n",
    "**事前準備**：\n",
    "* Jupyter notebookの実行環境構築\n",
    "* [IBM Quantum](https://quantum.ibm.com/) へのサインアップ"
   ]
  },
  {
   "cell_type": "markdown",
   "metadata": {
    "slideshow": {
     "slide_type": "slide"
    }
   },
   "source": [
    "### 目次\n",
    "1. [量子コンピューター](#quantum_computer)\n",
    "1. [量子プログラミング](#quantum_programming) \n",
    "1. [環境準備](#prep)\n",
    "1. [量子回路を作成する](#circuit)\n",
    "1. [量子ゲートを作用させる](#gate)\n",
    "1. [シミュレーターで実行する](#simulator)\n",
    "1. [実機で実行する](#real_machine)\n",
    "1. [演習！](#exercise)\n",
    "1. [まとめ](#summary)"
   ]
  },
  {
   "cell_type": "markdown",
   "metadata": {
    "slideshow": {
     "slide_type": "slide"
    }
   },
   "source": [
    "## 1. 量子コンピューター <a id='quantum_computer'></a>\n"
   ]
  },
  {
   "cell_type": "markdown",
   "metadata": {},
   "source": [
    "### 1.1 量子って何？\n",
    "Q. 物質の最小構成単位は何でしょうか？\n",
    "\n",
    "例えば、鉄の塊をどんどん細かく切ったとき、最後に見えるモノはなんでしょう？"
   ]
  },
  {
   "cell_type": "markdown",
   "metadata": {
    "slideshow": {
     "slide_type": "slide"
    }
   },
   "source": [
    "![物質の最小構成単位](material.png)\n",
    "\n",
    "|　　　| 鉄 | 原子 | 原子核 | 陽子 | クォーク |\n",
    "| --- | ---: | ---: | ---: | ---: | ---: |\n",
    "| 大きさ | $$ \\sim10^{-1}m $$ | $$ \\sim10^{-9}m $$ | $$ \\sim10^{-14}m $$ | $$ \\sim10^{-15}m $$ | $$ \\sim10^{-18}m $$ |\n",
    "\n",
    "図のように、鉄は原子でできていて、原子は原子核と電子から、原子核は陽子と中性子から、陽子と中性子はクォークからできています。一般的に原子より小さいものを**量子**と呼びます。"
   ]
  },
  {
   "cell_type": "markdown",
   "metadata": {
    "slideshow": {
     "slide_type": "slide"
    }
   },
   "source": [
    "### 1.2 量子の不思議なふるまい\n",
    "\n",
    "Q. 光は波でしょうか、粒子でしょうか？"
   ]
  },
  {
   "cell_type": "markdown",
   "metadata": {
    "slideshow": {
     "slide_type": "slide"
    }
   },
   "source": [
    "#### ヤングの実験\n",
    "\n",
    "![ヤングの実験](wave.png)\n",
    "\n",
    "Sourceは光源、S1には一つのスリット、S2は2つのスリット、Fはスクリーンです。Sourceから出た光は、S1、S2のスリットを通りスクリーンに到達します。このとき スクリーン上に明暗の干渉縞が現れます。干渉縞が現れることは、光が**波**であれば説明できると、この実験をしたヤングは結論づけました。"
   ]
  },
  {
   "cell_type": "markdown",
   "metadata": {
    "slideshow": {
     "slide_type": "slide"
    }
   },
   "source": [
    "#### 光電効果\n",
    "\n",
    "![光電効果](photoelectric.png)\n",
    "\n",
    "光電効果は、金属に光を当てると電子が飛び出す現象です。コピー機やデジタルカメラなどで利用されています。電子が飛び出るには、ある波長(金属の種類により異なります)より短い光を当てる必要があります。その波長より長い光の場合、どんなに強い光を当てても電子はでません。この現象は光が波だと説明することができないのです。光が**粒子**であれば説明できると言ったのがアインシュタインです。アインシュタインはこの業績でノーベル賞を受賞しました。"
   ]
  },
  {
   "cell_type": "markdown",
   "metadata": {
    "slideshow": {
     "slide_type": "slide"
    }
   },
   "source": [
    "ヤングの実験と光電効果の意味するところ、それは光は粒子と波の両方の性質を持つということです。光も量子の一つです。**量子は粒子と波の両方の性質を持つ**のです。ヤングの実験でSourceを電子銃に置き換えて電子で実施すると、光と同じように干渉縞を観測できます。粒子のように考えられる電子も波の性質を持つのです。\n",
    "\n",
    "このように、量子の世界は、私たちの世界と全く異なり、直感的に理解できません。量子の世界を記述する学問を量子力学と言います。高名な理論物理学者のファインマンも「もしも量子力学を理解できたと思ったならば...それは量子力学を理解できていない証拠だ」と言っています。"
   ]
  },
  {
   "cell_type": "markdown",
   "metadata": {
    "slideshow": {
     "slide_type": "slide"
    }
   },
   "source": [
    "### 1.3. 量子コンピューター\n",
    "量子コンピューターとは、そんな量子の不思議な振る舞いを利用して計算するコンピューターを指します。量子コンピューターで利用される量子の振る舞いは主に以下の3つです。\n",
    "- 重ね合わせ \n",
    "- 干渉\n",
    "- 量子もつれ (エンタングルメント)\n",
    "\n",
    "量子コンピューターは強力だと言われる理由は、これらの現象を利用しているからです。例えば、量子の重ね合わせができる振る舞いは、量子ビットの表現力を飛躍的に強化します。一般的なコンピューター(古典コンピューター)のビットは、0か1のどちらかを入れることができます。対して、量子ビットは$ |0\\rangle $ (古典コンピューターの0に相当)と$ |1\\rangle $ (古典コンピューターの1に相当)を重ね合わせて入れることができます。つまり、$ |0\\rangle $と$ |1\\rangle $を同時に両方入れられるのです。3ビットあれば、古典コンピューターも8通りの数を表現できますが、同時に格納できる数は一つです。対して3量子ビットあると8通りの数を同時に格納できるのです。\n",
    "\n",
    "ただし、観測すると量子ビットも0か1のどちらかの状態が確定します。その結果は確率的です。単純な計算のみでは、意味のある結果を得ることはできません。干渉や量子もつれを利用した効果的な量子アルゴリズムが必要なのです。"
   ]
  },
  {
   "cell_type": "markdown",
   "metadata": {
    "slideshow": {
     "slide_type": "slide"
    }
   },
   "source": [
    "![BitAndQubit6](BitQubit.png)"
   ]
  },
  {
   "cell_type": "markdown",
   "metadata": {},
   "source": [
    "| ビット数 | 表現できる数 |\n",
    "| --- | --- | \n",
    "| 1ビット| 2通り |\n",
    "| 2ビット| 4通り |\n",
    "| 8ビット| 256通り |\n",
    "| 16ビット| 65536通り |\n",
    "| 32ビット| 約43億通り |\n",
    "| 64ビット| 約1.8×1019通り |\n"
   ]
  },
  {
   "cell_type": "markdown",
   "metadata": {
    "slideshow": {
     "slide_type": "slide"
    }
   },
   "source": [
    "## 2. 量子プログラミング <a id='quantum_programming'></a>\n",
    "### 2.1 量子プログラミングの流れ\n",
    "\n",
    "1. **量子ビットの初期化**：多くの量子コンピューターにおいて、量子ビットは$ |0\\rangle $に初期化されます。\n",
    "1. **量子ビットの操作**：量子ビットの操作は`量子ゲート`と呼ばれるもので実施します。量子ゲートによる操作で、量子ビットの状態は重ね合わせ状態となり、結果は確率的なものとなります。\n",
    "1. **量子ビットの測定**：`測定ゲート`を用いて量子ビットを測定し、結果を古典ビットに格納します。結果は確率的なもののため、1回の測定で答えを得られることはありません。通常複数回、回路を実行し測定することを繰り返します。\n"
   ]
  },
  {
   "cell_type": "markdown",
   "metadata": {
    "slideshow": {
     "slide_type": "slide"
    }
   },
   "source": [
    "### 2.2 量子プログラムの可視化\n",
    "\n",
    "量子プログラムは**量子回路**として可視化できます。量子回路では下図のようにワイヤー上にボックスが配置されます。一本一本のワイヤーが量子ビット、ボックスがゲートを意味します。時間は左から右に流れますので、左のゲートから順に実行されることを意味します。古典ビットは、最下部に二重線でまとめて表現されます。\n",
    "\n",
    "![量子回路](Circuit.png)\n",
    "\n"
   ]
  },
  {
   "cell_type": "markdown",
   "metadata": {
    "slideshow": {
     "slide_type": "slide"
    }
   },
   "source": [
    "### 2.3 Qiskit\n",
    "[Qiskit](https://www.ibm.com/quantum/qiskit)は量子プログラミングのためのオープンソースのフレームワークです。量子プログラム(=量子回路)を作成し、様々な量子デバイスやシミュレーター上で実行するためのツールを提供します。"
   ]
  },
  {
   "cell_type": "markdown",
   "metadata": {
    "slideshow": {
     "slide_type": "slide"
    }
   },
   "source": [
    "## 3. 環境準備 <a id='prep'></a>\n",
    "このガイドのプログラムを実行する環境を準備しましょう。\n",
    "\n",
    "1. Qiskitをご自身のPCに[インストール](https://docs.quantum.ibm.com/guides/install-qiskit)します(参考：[日本語手順](https://qiita.com/kifumi/items/8f3617051635f986cc5f))。\n",
    "2. Jupyter notebookのダウンロード <br/>\n",
    "  ハンズオンで使用するJupyter notebookファイルを[こちら](https://github.com/purepureclub/RyokoFundamental/archive/refs/heads/main.zip)からダウンロードします\n",
    "3. ダウンロードしたzipファイルを解凍します。\n",
    "4. Jupyter notebookで「pamphlet.ipynb」を開いてください。  \n",
    "5. [IBM Quantum](https://quantum.ibm.com/)へのログインします。 <br/>\n",
    "6. 右上にある API トークンをクリックしてコピーします。\n",
    "7.  以下のコードセルで、 `deleteThisAndPasteYourTokenHere` をあなたのトークンに置き換えて、実行します。セルをクリックして「shift」+「enter」を押してください。これは、Jupyter notebookのコードセルを実行する最も一般的な方法です。 \n"
   ]
  },
  {
   "cell_type": "code",
   "execution_count": 1,
   "metadata": {},
   "outputs": [],
   "source": [
    "from qiskit_ibm_runtime import QiskitRuntimeService\n",
    "\n",
    "\n",
    "# APIトークンを設定します\n",
    "token=\"YOUR_API_TOKEN\"\n",
    "\n",
    "# QiskitRuntimeServiceの取得\n",
    "service = QiskitRuntimeService(channel=\"ibm_quantum\", token=token)"
   ]
  },
  {
   "cell_type": "markdown",
   "metadata": {
    "slideshow": {
     "slide_type": "slide"
    }
   },
   "source": [
    "## 4. 量子回路を作成する <a id='circuit'></a>\n",
    "では、量子回路を作成してみましょう。Qiskitで量子回路を表現するのは、`QuantumCircuit`クラスです。コンストラクタの種類はいくつかあります。最もポピュラーなのは、量子ビット数と古典ビット数を指定する方法です。作成した回路は、`draw`メソッドを使って簡単に描画することができます。\n",
    "\n",
    "下のセルに書かれたコードを実行しましょう。"
   ]
  },
  {
   "cell_type": "code",
   "execution_count": 2,
   "metadata": {
    "slideshow": {
     "slide_type": "slide"
    }
   },
   "outputs": [
    {
     "data": {
      "image/png": "[encoded data removed]",
      "text/plain": [
       "<Figure size 143.647x200.667 with 1 Axes>"
      ]
     },
     "execution_count": 2,
     "metadata": {},
     "output_type": "execute_result"
    }
   ],
   "source": [
    "from qiskit import QuantumCircuit\n",
    "\n",
    "\n",
    "# 1量子ビット、1古典ビットの回路を作成する\n",
    "qc = QuantumCircuit(1, 1)\n",
    "# 回路を描画する\n",
    "qc.draw('mpl')"
   ]
  },
  {
   "cell_type": "markdown",
   "metadata": {
    "slideshow": {
     "slide_type": "slide"
    }
   },
   "source": [
    "## 5. 量子ゲートを作用させる<a id='gate'></a>\n",
    "量子ゲートは、量子回路の量子ビットに作用します。どの量子ビットに作用させるか、引数で指定します。"
   ]
  },
  {
   "cell_type": "markdown",
   "metadata": {
    "slideshow": {
     "slide_type": "slide"
    }
   },
   "source": [
    "### 1量子ビットに作用するゲート\n",
    "`Xゲート`は、$ |0\\rangle $ を $ |1\\rangle $ に、$ |1\\rangle $ を $ |0\\rangle $に反転させるゲートです。\n",
    "\n",
    "`Hゲート`は、重ね合わせを作成するゲートです。$ |0\\rangle $に作用させると 、50%の確率で$ |0\\rangle $を、50%の確率で$ |1\\rangle $ を観測する状態を作成します。"
   ]
  },
  {
   "cell_type": "code",
   "execution_count": 3,
   "metadata": {
    "slideshow": {
     "slide_type": "-"
    }
   },
   "outputs": [
    {
     "data": {
      "image/png": "[encoded data removed]",
      "text/plain": [
       "<Figure size 269.064x200.667 with 1 Axes>"
      ]
     },
     "execution_count": 3,
     "metadata": {},
     "output_type": "execute_result"
    }
   ],
   "source": [
    "# 1量子ビット、1古典ビットの回路を作成する\n",
    "qc = QuantumCircuit(1, 1)\n",
    "\n",
    "# 第0量子ビットにXゲートを作用させる\n",
    "qc.x(0)\n",
    "# 第0量子ビットにHゲートを作用させる\n",
    "qc.h(0)\n",
    "\n",
    "# 回路を描画する\n",
    "qc.draw('mpl')"
   ]
  },
  {
   "cell_type": "markdown",
   "metadata": {
    "slideshow": {
     "slide_type": "slide"
    }
   },
   "source": [
    "### 2量子ビットに作用するゲート\n",
    "今回は使用しませんが、2量子ビットに作用するゲートもあります。\n",
    "\n",
    "`CXゲート` (Controlled Xゲート、CNOTゲート) は、制御ビットが1の時、ターゲット・ビットを反転させるゲートです。"
   ]
  },
  {
   "cell_type": "code",
   "execution_count": 4,
   "metadata": {
    "slideshow": {
     "slide_type": "-"
    }
   },
   "outputs": [
    {
     "data": {
      "image/png": "[encoded data removed]",
      "text/plain": [
       "<Figure size 203.683x284.278 with 1 Axes>"
      ]
     },
     "execution_count": 4,
     "metadata": {},
     "output_type": "execute_result"
    }
   ],
   "source": [
    "# 2量子ビット、2古典ビットの回路を作成する\n",
    "qc = QuantumCircuit(2, 2)\n",
    "\n",
    "# 第0量子ビットを制御ビット、第1量子ビットをターゲットビットとして、CXゲートを作用させる\n",
    "qc.cx(0, 1)\n",
    "\n",
    "# 回路を描画する\n",
    "qc.draw('mpl')"
   ]
  },
  {
   "cell_type": "markdown",
   "metadata": {
    "slideshow": {
     "slide_type": "slide"
    }
   },
   "source": [
    "### 測定ゲート\n",
    "量子ビットの状態を測定するには、`measure`メソッドを使用します。以下は1量子ビットの量子回路をつくり、第0量子ビットにXゲートを作用させて、測定する量子回路です。"
   ]
  },
  {
   "cell_type": "code",
   "execution_count": 5,
   "metadata": {
    "slideshow": {
     "slide_type": "slide"
    }
   },
   "outputs": [
    {
     "data": {
      "image/png": "[encoded data removed]",
      "text/plain": [
       "<Figure size 269.064x200.667 with 1 Axes>"
      ]
     },
     "execution_count": 5,
     "metadata": {},
     "output_type": "execute_result"
    }
   ],
   "source": [
    "# 1量子ビット、1古典ビットの回路を作成する\n",
    "qc = QuantumCircuit(1, 1)\n",
    "\n",
    "# 第0量子ビットにHゲートを作用させる\n",
    "qc.x(0)\n",
    "# 第0量子ビットを測定し、第0古典ビットに格納する\n",
    "qc.measure(0, 0)\n",
    "\n",
    "#回路を描画する\n",
    "qc.draw('mpl')"
   ]
  },
  {
   "cell_type": "markdown",
   "metadata": {
    "slideshow": {
     "slide_type": "slide"
    }
   },
   "source": [
    "## 6. シミュレーターで実行する <a id='simulator'></a>\n",
    "回路を作成したら、まずシミュレーターで実行し、期待される動作になっているか確認しましょう。Qiskitはデータを返す2つの方法を提供しています。本ガイドでは、測定したい量子ビット集合の確率分布を得る`Sampler`を使用します。また、Qiskitは複数のシミュレーターを提供していますが、本ガイドではもっとも基本的な`AerSimulator`を使用します。先ほど作成した回路を`AerSimulator`シミュレーターを用いてノイズのない理想的な環境で実行してみましょう。\n",
    "\n",
    "回路を実行するには、まずバックエンドで実行可能な回路に変換(トランスパイルといいます)する必要があります。トランスパイルに必要なものがPass Managerです。`generate_preset_pass_manager`メソッドを使用して、バックエンドに応じたPass Managerを取得し、`run`メソッドで回路を変換します。変換した回路を`Sampler`の`run`メソッドで実行しましょう。`Sampler`の`run`メソッドの`shots`引数で実行回数を指定できます。"
   ]
  },
  {
   "cell_type": "code",
   "execution_count": 6,
   "metadata": {
    "slideshow": {
     "slide_type": "slide"
    }
   },
   "outputs": [],
   "source": [
    "from qiskit_aer import AerSimulator\n",
    "from qiskit.visualization import plot_histogram\n",
    "from qiskit_ibm_runtime import SamplerV2 as Sampler\n",
    "from qiskit.transpiler.preset_passmanagers import generate_preset_pass_manager\n",
    "\n",
    "\n",
    "# AerSimulatorを取得します\n",
    "backend = AerSimulator()\n",
    "\n",
    "# 回路をトランスパイルし、バックエンドで実行可能な回路に変換します\n",
    "pm = generate_preset_pass_manager(backend=backend, optimization_level=1)\n",
    "isa_qc = pm.run(qc)\n",
    "\n",
    "#トランスパイルされた回路をSamplerで実行します\n",
    "sampler = Sampler(mode=backend)\n",
    "job = sampler.run([(isa_qc)], shots=16)\n",
    "result = job.result()"
   ]
  },
  {
   "cell_type": "markdown",
   "metadata": {},
   "source": [
    "`get_counts`メソッドを使って、結果をヒストグラムで表示させましょう。"
   ]
  },
  {
   "cell_type": "code",
   "execution_count": 7,
   "metadata": {},
   "outputs": [
    {
     "data": {
      "image/png": "[encoded data removed]",
      "text/plain": [
       "<Figure size 640x480 with 1 Axes>"
      ]
     },
     "execution_count": 7,
     "metadata": {},
     "output_type": "execute_result"
    }
   ],
   "source": [
    "plot_histogram(result[0].data.c.get_counts())"
   ]
  },
  {
   "cell_type": "markdown",
   "metadata": {},
   "source": [
    "get_bitstringsメソッドを使うと各回の実行結果が表示されます。"
   ]
  },
  {
   "cell_type": "code",
   "execution_count": 8,
   "metadata": {
    "slideshow": {
     "slide_type": "-"
    }
   },
   "outputs": [
    {
     "name": "stdout",
     "output_type": "stream",
     "text": [
      "['1', '1', '1', '1', '1', '1', '1', '1', '1', '1', '1', '1', '1', '1', '1', '1']\n"
     ]
    }
   ],
   "source": [
    "print(result[0].data.c.get_bitstrings())"
   ]
  },
  {
   "cell_type": "markdown",
   "metadata": {
    "slideshow": {
     "slide_type": "slide"
    }
   },
   "source": [
    "## 7. 実機で実行する <a id='real_machine'></a>\n",
    "では、実機で実行してみましょう。ご自身のアカウントにより、利用できるバックエンドが異なりますので、まず`QiskitRuntimeService`の`backends`メソッドでどのような実機が使えるか確認します。"
   ]
  },
  {
   "cell_type": "code",
   "execution_count": 9,
   "metadata": {
    "slideshow": {
     "slide_type": "-"
    }
   },
   "outputs": [
    {
     "data": {
      "text/plain": [
       "[<IBMBackend('ibm_brisbane')>,\n",
       " <IBMBackend('ibm_cusco')>,\n",
       " <IBMBackend('ibm_kyiv')>,\n",
       " <IBMBackend('ibm_nazca')>,\n",
       " <IBMBackend('ibm_sherbrooke')>,\n",
       " <IBMBackend('ibm_torino')>,\n",
       " <IBMBackend('test_eagle_us-east')>]"
      ]
     },
     "execution_count": 9,
     "metadata": {},
     "output_type": "execute_result"
    }
   ],
   "source": [
    "# 使用できるバックエンドを表示します\n",
    "service.backends()"
   ]
  },
  {
   "cell_type": "markdown",
   "metadata": {
    "slideshow": {
     "slide_type": "slide"
    }
   },
   "source": [
    "最も待ち行列が少ないバックエンドを取得する`least_busy`メソッドで今回利用する実機を取得しましょう。"
   ]
  },
  {
   "cell_type": "code",
   "execution_count": 10,
   "metadata": {
    "slideshow": {
     "slide_type": "-"
    }
   },
   "outputs": [
    {
     "name": "stdout",
     "output_type": "stream",
     "text": [
      "<IBMBackend('ibm_cusco')>\n"
     ]
    }
   ],
   "source": [
    "# 最も待ち行列が少ない実機を取得する\n",
    "backend = service.least_busy(simulator=False, operational=True)\n",
    "print(backend)"
   ]
  },
  {
   "cell_type": "markdown",
   "metadata": {
    "slideshow": {
     "slide_type": "slide"
    }
   },
   "source": [
    "実機のバックエンドを使用して量子回路を実行する手順は、シミュレーターの時と一緒です。バックエンドを取得したら、回路をトランスパイルし、`Sampler`で実行します。"
   ]
  },
  {
   "cell_type": "code",
   "execution_count": 11,
   "metadata": {
    "slideshow": {
     "slide_type": "-"
    }
   },
   "outputs": [],
   "source": [
    "pm = generate_preset_pass_manager(backend=backend, optimization_level=1)\n",
    "isa_qc = pm.run(qc)\n",
    "\n",
    "sampler = Sampler(mode=backend)\n",
    "job = sampler.run([(isa_qc)], shots=16)\n",
    "job_id = job.job_id()"
   ]
  },
  {
   "cell_type": "markdown",
   "metadata": {},
   "source": [
    "実機で実行する場合は、待ち行列に入ったり実行に時間がかかったりして、いつ終わるかわかりません。ジョブのステータスを`status`メソッドで確認しましょう。"
   ]
  },
  {
   "cell_type": "code",
   "execution_count": 12,
   "metadata": {},
   "outputs": [
    {
     "name": "stdout",
     "output_type": "stream",
     "text": [
      "Job ID: cw870njbhxtg008wkje0, Status: QUEUED\n"
     ]
    }
   ],
   "source": [
    "print(f\"Job ID: {job_id}, Status: {job.status()}\")"
   ]
  },
  {
   "cell_type": "markdown",
   "metadata": {
    "slideshow": {
     "slide_type": "slide"
    }
   },
   "source": [
    "`Status: DONE` と表示されたら、実行完了です。結果を取得して、表示してみましょう。実機はノイズがあるので、`0`が観測される可能性もあります。"
   ]
  },
  {
   "cell_type": "code",
   "execution_count": 13,
   "metadata": {
    "slideshow": {
     "slide_type": "-"
    }
   },
   "outputs": [
    {
     "name": "stdout",
     "output_type": "stream",
     "text": [
      "['1', '1', '1', '1', '1', '1', '1', '1', '1', '1', '1', '1', '1', '1', '1', '1']\n"
     ]
    }
   ],
   "source": [
    "result = job.result()\n",
    "plot_histogram(result[0].data.c.get_counts())\n",
    "print(result[0].data.c.get_bitstrings())"
   ]
  },
  {
   "cell_type": "markdown",
   "metadata": {
    "slideshow": {
     "slide_type": "slide"
    }
   },
   "source": [
    "## 8. 演習：シュレディンガーの猫を実装する <a id='exercise'></a>\n",
    "\n",
    "Q. シュレディンガーの猫をご存じですか？"
   ]
  },
  {
   "cell_type": "markdown",
   "metadata": {
    "slideshow": {
     "slide_type": "slide"
    }
   },
   "source": [
    "シュレディンガーの猫とは、理論物理学者Erwin Schrödingerによる思考実験です。不透明な箱に、1分間に50%の確率で毒ガスを発生させる装置と猫を入れたとき、1分後の猫の生死がどうなっているかを論じるものです。\n",
    "![シュレディンガーの猫](Cat.png)\n",
    "\n",
    "ところで、$ |0\\rangle $に`Hゲート`を作用させると 、50%の確率で$ |0\\rangle $を、50%の確率で$ |1\\rangle $を観測することができます。\n",
    "\n",
    "これを利用し、量子ビットを使ってシュレディンガーの猫を実装してみましょう。"
   ]
  },
  {
   "cell_type": "markdown",
   "metadata": {
    "slideshow": {
     "slide_type": "slide"
    }
   },
   "source": [
    "### 準備1：必要なライブラリをインポートします"
   ]
  },
  {
   "cell_type": "code",
   "execution_count": 14,
   "metadata": {},
   "outputs": [],
   "source": [
    "import numpy as np\n",
    "import matplotlib.pyplot as plt"
   ]
  },
  {
   "cell_type": "markdown",
   "metadata": {
    "slideshow": {
     "slide_type": "slide"
    }
   },
   "source": [
    "### 準備2：生きた猫と死んだ猫を表示する関数を実装します"
   ]
  },
  {
   "cell_type": "code",
   "execution_count": 15,
   "metadata": {},
   "outputs": [],
   "source": [
    "#猫画像の初期化\n",
    "live_cat = np.array(\n",
    "    [[0,0,0,0,0,0,0,0,0,0,0,0,0,0,0,0,0,0,0,0],\n",
    "    [0,1,1,1,1,1,1,1,1,1,1,1,1,1,1,1,1,1,1,0],\n",
    "    [0,1,1,1,1,1,1,1,0,1,1,1,1,0,1,1,1,1,1,0],\n",
    "    [0,1,1,1,1,1,1,0,0,1,1,1,0,0,1,1,1,1,1,0],\n",
    "    [0,1,1,1,1,1,0,0,0,1,1,0,0,0,1,1,1,1,1,0],\n",
    "    [0,1,1,1,1,1,0,0,0,0,0,0,0,0,1,1,1,1,1,0],\n",
    "    [0,1,1,1,1,0,0,1,0,0,1,0,0,0,1,1,1,1,1,0],\n",
    "    [0,1,1,1,1,0,0,1,0,0,1,0,0,0,1,1,1,1,1,0],\n",
    "    [0,1,1,1,1,0,0,0,0,0,0,0,0,0,1,1,1,1,1,0],\n",
    "    [0,1,1,1,1,1,0,0,0,0,0,0,0,1,1,1,1,1,1,0],\n",
    "    [0,1,1,1,1,1,1,0,0,0,0,0,1,1,1,0,0,1,1,0],\n",
    "    [0,1,1,1,1,1,1,1,1,0,0,1,1,1,0,1,1,0,1,0],\n",
    "    [0,1,1,1,1,1,1,1,1,0,0,0,1,1,0,1,1,1,1,0],\n",
    "    [0,1,1,1,1,1,1,1,1,0,0,0,0,1,1,0,1,1,1,0],\n",
    "    [0,1,1,1,1,1,1,1,1,0,0,0,0,0,1,1,0,1,1,0],\n",
    "    [0,1,1,1,1,1,1,1,0,0,0,0,0,0,1,1,0,1,1,0],\n",
    "    [0,1,1,1,1,1,1,1,0,0,0,0,0,0,0,1,0,1,1,0],\n",
    "    [0,1,1,1,1,1,1,1,0,0,0,0,0,0,0,0,1,1,1,0],\n",
    "    [0,1,1,1,1,1,1,1,0,0,0,0,0,0,0,1,1,1,1,0],\n",
    "    [0,0,0,0,0,0,0,0,0,0,0,0,0,0,0,0,0,0,0,0]])\n",
    "dead_cat = np.array(\n",
    "    [[0,0,0,0,0,0,0,0,0,0,0,0,0,0,0,0,0,0,0,0],\n",
    "    [0,1,1,1,1,1,1,1,1,1,1,1,1,1,1,1,1,1,1,0],\n",
    "    [0,1,1,1,1,1,1,1,1,1,1,1,1,1,1,1,1,1,1,0],\n",
    "    [0,1,1,1,1,1,1,1,1,1,1,1,1,1,1,1,1,1,1,0],\n",
    "    [0,1,1,1,1,1,1,1,1,1,1,1,1,1,1,1,1,1,1,0],\n",
    "    [0,1,1,1,1,1,1,1,1,1,1,1,1,1,1,1,1,1,1,0],\n",
    "    [0,1,1,1,1,1,1,1,1,1,1,1,1,1,1,1,1,1,1,0],\n",
    "    [0,1,1,1,1,1,1,1,1,1,1,1,1,1,1,1,1,1,1,0],\n",
    "    [0,1,1,1,1,1,1,1,1,1,1,1,1,1,1,1,1,1,1,0],\n",
    "    [0,1,1,1,1,1,1,1,1,1,1,1,1,1,1,1,1,1,1,0],\n",
    "    [0,1,1,1,1,1,1,1,1,1,1,1,1,1,1,1,1,1,1,0],\n",
    "    [0,1,1,1,1,1,1,1,1,1,1,1,1,1,1,1,1,1,1,0],\n",
    "    [0,1,1,1,1,0,1,1,1,0,1,1,1,1,1,1,1,1,1,0],\n",
    "    [0,1,1,1,0,0,1,1,0,0,1,1,1,0,0,0,0,0,1,0],\n",
    "    [0,1,1,0,0,0,1,0,0,0,1,1,0,0,0,0,0,0,0,0],\n",
    "    [0,1,1,0,0,0,0,0,0,0,1,0,0,0,0,0,0,0,0,0],\n",
    "    [0,1,0,0,0,0,0,0,0,0,0,0,0,0,0,0,0,0,0,0],\n",
    "    [0,1,0,0,0,0,0,0,0,0,0,0,0,0,0,0,0,0,0,0],\n",
    "    [0,1,0,0,0,0,0,0,0,0,0,0,0,0,0,0,0,0,0,0],\n",
    "    [0,0,0,0,0,0,0,0,0,0,0,0,0,0,0,0,0,0,0,0]])\n",
    "\n",
    "#入力が1の場合は生きている猫、\n",
    "#それ以外は死んでいる猫が表示される関数\n",
    "def show_cat(memory):\n",
    "    if memory[0] == '1':\n",
    "        image = live_cat\n",
    "    else:\n",
    "        image = dead_cat\n",
    "\n",
    "    fig, ax = plt.subplots()\n",
    "    ax.imshow(image, cmap=plt.cm.gray)\n",
    "    ax.axis(\"off\")\n",
    "    plt.show()"
   ]
  },
  {
   "cell_type": "markdown",
   "metadata": {
    "slideshow": {
     "slide_type": "slide"
    }
   },
   "source": [
    "関数が正しく動作するか確かめます。"
   ]
  },
  {
   "cell_type": "code",
   "execution_count": 16,
   "metadata": {},
   "outputs": [
    {
     "data": {
      "image/png": "[encoded data removed]",
      "text/plain": [
       "<Figure size 640x480 with 1 Axes>"
      ]
     },
     "metadata": {},
     "output_type": "display_data"
    },
    {
     "data": {
      "image/png": "[encoded data removed]",
      "text/plain": [
       "<Figure size 640x480 with 1 Axes>"
      ]
     },
     "metadata": {},
     "output_type": "display_data"
    }
   ],
   "source": [
    "# 生きた猫\n",
    "show_cat(['1'])\n",
    "\n",
    "# 死んだ猫\n",
    "show_cat(['0'])"
   ]
  },
  {
   "cell_type": "markdown",
   "metadata": {
    "slideshow": {
     "slide_type": "slide"
    }
   },
   "source": [
    "### 演習1：50%の確率で|0⟩を、50%の確率で|1⟩を測定する量子回路を作成します\n",
    "\n",
    "1量子ビット、1古典ビットを持つ量子回路を作成、第0量子ビットに`Hゲート`を作用させて、観測します。以下の不完全なコードセルにコードを追記して、実行してください。"
   ]
  },
  {
   "cell_type": "code",
   "execution_count": 17,
   "metadata": {},
   "outputs": [
    {
     "data": {
      "image/png": "[encoded data removed]",
      "text/plain": [
       "<Figure size 269.064x200.667 with 1 Axes>"
      ]
     },
     "execution_count": 17,
     "metadata": {},
     "output_type": "execute_result"
    }
   ],
   "source": [
    "#1量子ビット、1古典ビットの量子回路の作成\n",
    "circuit = QuantumCircuit(1, 1)\n",
    "\n",
    "# 第0量子ビットにHゲートを作用させる\n",
    "circuit.h(0)\n",
    "\n",
    "# 量子回路を測定する\n",
    "circuit.measure(0, 0)\n",
    "\n",
    "# 量子回路を描画する\n",
    "circuit.draw('mpl')"
   ]
  },
  {
   "cell_type": "markdown",
   "metadata": {},
   "source": [
    "### 演習 2: 作成した量子回路が正しく動作するか確認します\n",
    "AerSimulatorを用いて確かめてみましょう。50%の確率で$|0\\rangle$が、50%の確率で$|1\\rangle$が観測されることを確認します。"
   ]
  },
  {
   "cell_type": "code",
   "execution_count": 18,
   "metadata": {},
   "outputs": [
    {
     "data": {
      "image/png": "[encoded data removed]",
      "text/plain": [
       "<Figure size 640x480 with 1 Axes>"
      ]
     },
     "execution_count": 18,
     "metadata": {},
     "output_type": "execute_result"
    }
   ],
   "source": [
    "# AerSimulatorを取得します\n",
    "backend_sim = AerSimulator()\n",
    "\n",
    "# Pass Managerを取得し、トランスパイルします\n",
    "pm_sim = generate_preset_pass_manager(backend=backend_sim, optimization_level=1)\n",
    "isa_qc_sim = pm_sim.run(circuit)\n",
    "\n",
    "# 回路をSamplerを用いて10000回シミュレーターで実行します\n",
    "sampler_sim = Sampler(mode=backend_sim)\n",
    "job_sim = sampler_sim.run([(isa_qc_sim)], shots=10000)\n",
    "\n",
    "# jobから結果を取得します。\n",
    "result_sim = job_sim.result()\n",
    "\n",
    "# 実行結果をカウント数として取得します\n",
    "counts_sim = result_sim[0].data.c.get_counts()\n",
    "\n",
    "# 結果を描画します\n",
    "plot_histogram(counts_sim)"
   ]
  },
  {
   "cell_type": "markdown",
   "metadata": {},
   "source": [
    "### 演習 3: シミュレーターを使って実行する\n",
    "シミュレーターの実行結果を用いて、猫の状態を決定しましょう。何度か実行して、生きている猫と死んでいる猫が表示されることを確認してください。"
   ]
  },
  {
   "cell_type": "code",
   "execution_count": 23,
   "metadata": {},
   "outputs": [
    {
     "name": "stdout",
     "output_type": "stream",
     "text": [
      "['1']\n"
     ]
    },
    {
     "data": {
      "image/png": "[encoded data removed]",
      "text/plain": [
       "<Figure size 640x480 with 1 Axes>"
      ]
     },
     "metadata": {},
     "output_type": "display_data"
    }
   ],
   "source": [
    "# 作成した回路を1回実行して、結果を取得します。\n",
    "result_sim = sampler_sim.run([(isa_qc_sim)], shots=1).result()\n",
    "\n",
    "# 実行結果を個々の測定結果として取得します\n",
    "memory_sim = result_sim[0].data.c.get_bitstrings()\n",
    "\n",
    "# 結果を描画します\n",
    "print(memory_sim)\n",
    "show_cat(memory_sim)"
   ]
  },
  {
   "cell_type": "markdown",
   "metadata": {},
   "source": [
    "### 演習 4: 実機を使って実行する\n",
    "シミュレーターで動きを確認できたので、実機で動かしてみましょう。まず、回路を実行する実機を探します。"
   ]
  },
  {
   "cell_type": "code",
   "execution_count": 25,
   "metadata": {},
   "outputs": [
    {
     "name": "stdout",
     "output_type": "stream",
     "text": [
      "<IBMBackend('ibm_cusco')>\n"
     ]
    }
   ],
   "source": [
    "# QiskitRuntimeServiceの取得\n",
    "# APIトークンを設定します\n",
    "token=\"YOUR_API_TOKEN\"\n",
    "service = QiskitRuntimeService(channel=\"ibm_quantum\", token=token)\n",
    "\n",
    "# 最も待ち行列が少ない実機を探します\n",
    "real_backend = service.least_busy(simulator=False, operational=True)\n",
    "print(real_backend)"
   ]
  },
  {
   "cell_type": "markdown",
   "metadata": {},
   "source": [
    "見つけた実機で量子回路を実行します。"
   ]
  },
  {
   "cell_type": "code",
   "execution_count": 26,
   "metadata": {},
   "outputs": [],
   "source": [
    "# Pass Managerを取得し、トランスパイルします\n",
    "pm_real = generate_preset_pass_manager(backend=real_backend, optimization_level=1)\n",
    "isa_qc_real = pm_real.run(circuit)\n",
    "\n",
    "# 回路を1回実行して、結果を取得します。\n",
    "sampler_real = Sampler(mode=real_backend)\n",
    "job_real = sampler_real.run([(isa_qc_real)], shots=1)\n",
    "\n",
    "job_id_real = job_real.job_id()"
   ]
  },
  {
   "cell_type": "markdown",
   "metadata": {},
   "source": [
    "実行状況を確認しましょう。"
   ]
  },
  {
   "cell_type": "code",
   "execution_count": 29,
   "metadata": {},
   "outputs": [
    {
     "name": "stdout",
     "output_type": "stream",
     "text": [
      "Job ID: cw8721rjzdhg008eatqg, Status: DONE\n"
     ]
    }
   ],
   "source": [
    "print(f\"Job ID: {job_id_real}, Status: {job_real.status()}\")"
   ]
  },
  {
   "cell_type": "markdown",
   "metadata": {},
   "source": [
    "`Status: DONE` と表示されたら、結果を取得し、猫の状態を決定しましょう。"
   ]
  },
  {
   "cell_type": "code",
   "execution_count": 30,
   "metadata": {},
   "outputs": [
    {
     "name": "stdout",
     "output_type": "stream",
     "text": [
      "['0']\n"
     ]
    },
    {
     "data": {
      "image/png": "[encoded data removed]",
      "text/plain": [
       "<Figure size 640x480 with 1 Axes>"
      ]
     },
     "metadata": {},
     "output_type": "display_data"
    }
   ],
   "source": [
    "# 実行結果の取得\n",
    "result_real = job_real.result()\n",
    "\n",
    "# 実行結果を個々の観測結果として取得\n",
    "memory_real = result_real[0].data.c.get_bitstrings()\n",
    "\n",
    "# 結果を描画します\n",
    "print(memory_real)\n",
    "show_cat(memory_real)"
   ]
  },
  {
   "cell_type": "markdown",
   "metadata": {},
   "source": [
    "以上で、量子ビットを使用したシュレディンガーの猫を実装できました！"
   ]
  },
  {
   "cell_type": "markdown",
   "metadata": {
    "slideshow": {
     "slide_type": "slide"
    }
   },
   "source": [
    "## 9. まとめ <a id='summary'></a>\n",
    "いかがでしたか？このガイドではQiskitを用いて以下を行いました：\n",
    "- 量子回路を作成する\n",
    "- シミュレーターと実機で量子回路を実行する\n",
    "- シュレディンガーの猫を実装する\n",
    "\n",
    "Qiskitをもっと知りたい方には、Qiskit Documentationの[Guides](https://docs.quantum.ibm.com/guides)や、[IBM Quantum Learning](https://learning.quantum.ibm.com/)をお勧めします。"
   ]
  },
  {
   "cell_type": "code",
   "execution_count": 31,
   "metadata": {
    "slideshow": {
     "slide_type": "skip"
    }
   },
   "outputs": [
    {
     "data": {
      "text/plain": [
       "'1.2.4'"
      ]
     },
     "execution_count": 31,
     "metadata": {},
     "output_type": "execute_result"
    }
   ],
   "source": [
    "import qiskit\n",
    "qiskit.__version__"
   ]
  },
  {
   "cell_type": "markdown",
   "metadata": {},
   "source": [
    "<div style=\"text-align: right;\">\n",
    "(了)\n",
    "</div>"
   ]
  }
 ],
 "metadata": {
  "celltoolbar": "Slideshow",
  "kernelspec": {
   "display_name": "qeet",
   "language": "python",
   "name": "python3"
  },
  "language_info": {
   "codemirror_mode": {
    "name": "ipython",
    "version": 3
   },
   "file_extension": ".py",
   "mimetype": "text/x-python",
   "name": "python",
   "nbconvert_exporter": "python",
   "pygments_lexer": "ipython3",
   "version": "3.11.5"
  }
 },
 "nbformat": 4,
 "nbformat_minor": 4
}
